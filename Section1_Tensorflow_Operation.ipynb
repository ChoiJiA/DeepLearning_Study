{
 "cells": [
  {
   "cell_type": "markdown",
   "metadata": {},
   "source": [
    "## Tensorflow Basic\n",
    "- 참고 : tensorflow version 1 -> tensorflow version 2 (https://www.tensorflow.org/guide/migrate)"
   ]
  },
  {
   "cell_type": "markdown",
   "metadata": {},
   "source": [
    "### Check TF version"
   ]
  },
  {
   "cell_type": "code",
   "execution_count": 54,
   "metadata": {},
   "outputs": [
    {
     "data": {
      "text/plain": [
       "'2.0.0'"
      ]
     },
     "execution_count": 54,
     "metadata": {},
     "output_type": "execute_result"
    }
   ],
   "source": [
    "import tensorflow as tf \n",
    "tf.__version__"
   ]
  },
  {
   "cell_type": "markdown",
   "metadata": {},
   "source": [
    "### Tensorflow Basic Operasion\n",
    "1. Build Graph(그래프 정의)  \n",
    "2. Run Graph(sess.run)  \n",
    "3. Update variables in the graph or Return"
   ]
  },
  {
   "cell_type": "code",
   "execution_count": 55,
   "metadata": {},
   "outputs": [
    {
     "name": "stdout",
     "output_type": "stream",
     "text": [
      "b'Hello, Tensorflow!'\n"
     ]
    }
   ],
   "source": [
    "# Create a constant operation\n",
    "\n",
    "import tensorflow as tf \n",
    "\n",
    "tf.compat.v1.disable_eager_execution()  # to use \"Session()\" module in tensorflow version2 \n",
    "\n",
    "hello = tf.constant(\"Hello, Tensorflow!\") \n",
    "\n",
    "sess = tf.compat.v1.Session()  # tensorflow version1 ; hello = tf.Session()\n",
    "\n",
    "print(sess.run(hello))"
   ]
  },
  {
   "cell_type": "markdown",
   "metadata": {},
   "source": [
    "### Tensors ; Ranks, Shapes and Types\n",
    "- Ranks(n차원 array)  \n",
    "    Rank 0 : Scalar, (s = 483)  \n",
    "    Rank 1 : Vector, (v = [1, 2, 3])  \n",
    "    Rank 2 : Matrix, (m = [[1, 2, 3], [4, 5, 6], [7, 8, 9]])  \n",
    "- Shapes  \n",
    "    Rank 0 = Shape [] = Dimension number(0-D)   \n",
    "    Rank 1 = Shape [D0] = Dimension number(1-D)   \n",
    "    Rank 2 = Shape [D0, D1] = Dimension number(2-D)   \n",
    "    ex) t = [[1, 2, 3], [4, 5, 6], [7, 8, 9]]  : (3,3) shape, 내부의 array가 3인것이 3개가 있음  \n",
    "- Types  \n",
    "    Data type : DT_FLOAT, DF_INT32....\n",
    "   "
   ]
  },
  {
   "cell_type": "markdown",
   "metadata": {},
   "source": [
    "## Computational Graph"
   ]
  },
  {
   "cell_type": "code",
   "execution_count": 56,
   "metadata": {},
   "outputs": [],
   "source": [
    "node1 = tf.constant(3.0, tf.float32)\n",
    "node2 = tf.constant(4.0, tf.float32)\n",
    "node3 = tf.add(node1, node2)  # == node3 = node1 + node2"
   ]
  },
  {
   "cell_type": "code",
   "execution_count": 57,
   "metadata": {},
   "outputs": [
    {
     "name": "stdout",
     "output_type": "stream",
     "text": [
      "node1 :  Tensor(\"Const_11:0\", shape=(), dtype=float32) node2 :  Tensor(\"Const_12:0\", shape=(), dtype=float32)\n",
      "node3 :  Tensor(\"Add_4:0\", shape=(), dtype=float32)\n"
     ]
    }
   ],
   "source": [
    "print(\"node1 : \", node1, \"node2 : \", node2)\n",
    "print(\"node3 : \", node3)"
   ]
  },
  {
   "cell_type": "code",
   "execution_count": 58,
   "metadata": {},
   "outputs": [
    {
     "name": "stdout",
     "output_type": "stream",
     "text": [
      "sess.run(node1, node2) :  [3.0, 4.0]\n",
      "sess.run(node3) :  7.0\n"
     ]
    }
   ],
   "source": [
    "sess = tf.compat.v1.Session()\n",
    "print(\"sess.run(node1, node2) : \", sess.run([node1, node2]))\n",
    "print(\"sess.run(node3) : \", sess.run(node3))"
   ]
  },
  {
   "cell_type": "markdown",
   "metadata": {},
   "source": [
    "### Placeholder(값을 나중에 할당)"
   ]
  },
  {
   "cell_type": "code",
   "execution_count": 61,
   "metadata": {},
   "outputs": [
    {
     "name": "stdout",
     "output_type": "stream",
     "text": [
      "7.0\n",
      "[3. 9.]\n"
     ]
    }
   ],
   "source": [
    "import tensorflow.compat.v1 as tf\n",
    "tf.disable_v2_behavior()\n",
    "\n",
    "a = tf.placeholder(tf.float32)\n",
    "b = tf.placeholder(tf.float32)\n",
    "adder_node = a + b \n",
    "\n",
    "print(sess.run(adder_node, feed_dict={a:3, b:4}))\n",
    "print(sess.run(adder_node, feed_dict={a:[1, 5], b:[2, 4]}))\n"
   ]
  },
  {
   "cell_type": "code",
   "execution_count": null,
   "metadata": {},
   "outputs": [],
   "source": [
    "add_and_triple = adder_node * 3\n",
    "print(sess.run(a))"
   ]
  }
 ],
 "metadata": {
  "kernelspec": {
   "display_name": "Python 3",
   "language": "python",
   "name": "python3"
  },
  "language_info": {
   "codemirror_mode": {
    "name": "ipython",
    "version": 3
   },
   "file_extension": ".py",
   "mimetype": "text/x-python",
   "name": "python",
   "nbconvert_exporter": "python",
   "pygments_lexer": "ipython3",
   "version": "3.7.1"
  }
 },
 "nbformat": 4,
 "nbformat_minor": 2
}
